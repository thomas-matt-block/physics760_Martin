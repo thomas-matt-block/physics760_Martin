{
 "cells": [
  {
   "cell_type": "markdown",
   "metadata": {},
   "source": [
    "# Homework 2 from Martin Gräf, Richard Baumann and Thomas Block\n",
    "\n",
    "## Exercise 1\n",
    "\n",
    "After taking a look at the one-dimensional ising model in Homework 1, we now take a look at the two-dimensional variant. Again we have the hamiltonian:\n",
    "\n",
    "\n",
    "\\begin{equation}\n",
    "    H(\\sigma) = - J \\sum_{\\langle x~y\\rangle} \\sigma_x \\sigma_y - h \\sum_x \\sigma_x\n",
    "\\end{equation}\n",
    "\n",
    "\n",
    "\n"
   ]
  },
  {
   "cell_type": "code",
   "execution_count": 1,
   "metadata": {},
   "outputs": [],
   "source": [
    "#just importing stuff, nothing to see here yet :)\n",
    "\n",
    "import numpy as np \n",
    "import random as rd\n",
    "import matplotlib.pyplot as plt\n",
    "import math\n",
    "import itertools \n",
    "import scipy.special as sp"
   ]
  },
  {
   "cell_type": "markdown",
   "metadata": {},
   "source": [
    "This time we not only look at the particles left and right of the observed particle, but at the particles above and below. Therefore the hamiltonian for a spin at position $(x,y)$ looks like this:\n",
    "\n",
    "\\begin{equation}\n",
    "    H(\\sigma_{x,y}) = - J (\\sigma_{x-1, y} \\sigma_{x, y} + \\sigma_{x+1, y} \\sigma_{x, y} + \\sigma_{x, y-1} \\sigma_{x, y} + \\sigma_{x, y+1} \\sigma_{x, y}) - h \\sigma_{x, y}\n",
    "\\end{equation}\n",
    "\n",
    "As we can see in the equation above, this hamiltonian looks at all adjacent spins. Therefore, the implementation looks something like that:\n"
   ]
  },
  {
   "cell_type": "code",
   "execution_count": 2,
   "metadata": {},
   "outputs": [],
   "source": [
    "#Spin is supposed to be a NxN big array. Position has to be an array of the form [x, y] to indicate the position of the spin.\n",
    "def hamiltionian(spin_array, position, j, h):\n",
    "    minuend=0\n",
    "    if position[0]+1 < len(spin_array[0])-1:\n",
    "        minuend = minuend + spin_array[position[0]+1][position[1]] * spin_array[position[0]][position[1]] \\\n",
    "                          + spin_array[position[0]-1][position[1]] * spin_array[position[0]][position[1]]\n",
    "    else:\n",
    "        minuend = minuend + spin_array[position[0]-1][position[1]] * spin_array[position[0]][position[1]] \\\n",
    "                          + spin_array[0][position[1]] * spin_array[position[0]][position[1]] \n",
    "    \n",
    "    if position[1]+1 < len(spin_array[0])-1:\n",
    "        minuend = minuend + spin_array[position[0]][position[1]+1] * spin_array[position[0]][position[1]]  \\\n",
    "                          + spin_array[position[0]][position[1]-1] * spin_array[position[0]][position[1]] \n",
    "    else:\n",
    "        minuend = minuend + spin_array[position[0]][position[1]-1] * spin_array[position[0]][position[1]]  \\\n",
    "                          + spin_array[position[0]][0] * spin_array[position[0]][position[1]]\n",
    "        \n",
    "    return (-j*minuend-h*spin_array[position[0]][position[1]])"
   ]
  },
  {
   "cell_type": "markdown",
   "metadata": {},
   "source": [
    "Now we have to generate a spin array, that can be used later on. This array has to be two dimensional. This spin-arry is $ N_{x} $ x $ N_{y} $ large, however in accordance to the exercise sheet we choose $ N_{x}=N_{y} $."
   ]
  },
  {
   "cell_type": "code",
   "execution_count": 3,
   "metadata": {},
   "outputs": [],
   "source": [
    "def gen_spin_array(length):\n",
    "    configurations=np.zeros(length*length).reshape(length, length)\n",
    "    current_configuration=np.zeros(length)\n",
    "    for j in range(length):\n",
    "        for i in range(length):\n",
    "            #a random integer between 1 and 3 (1, 2)\n",
    "            current_configuration[i]=(2*rd.randint(1, 2)-3)\n",
    "        configurations[j]=current_configuration\n",
    "    return configurations"
   ]
  },
  {
   "cell_type": "code",
   "execution_count": 4,
   "metadata": {},
   "outputs": [],
   "source": [
    "#configs = gen_spin_array(10)\n",
    "#print(configs)\n",
    "#print(configs[0][2])\n"
   ]
  },
  {
   "cell_type": "markdown",
   "metadata": {},
   "source": [
    "We can carry over the other instructions from the previous homework. Therefore, we assume, that the spins are distributed following a Bolzmann distribution (a fact, that is given by the exercise sheet):\n",
    "\n",
    "\\begin{equation}\n",
    "    P(s)=\\frac{ exp \\big[-\\frac{H(s)}{k_{b}T} \\big]}{\\sum_{s`} exp \\big[-\\frac{H(s`)}{k_{b}T}\\big]}  = \\frac{1}{Z} exp \\big[-\\frac{H(s)}{k_{b}T} \\big].\n",
    "\\end{equation}\n",
    "\n",
    "Thus, Z can be determined via:\n",
    "\n",
    "\\begin{equation}\n",
    "    Z={\\sum_{s`} exp \\big[-\\frac{H(s`)}{k_{b}T}\\big]} \n",
    "\\end{equation}"
   ]
  },
  {
   "cell_type": "code",
   "execution_count": 5,
   "metadata": {},
   "outputs": [],
   "source": [
    "def z_simulated(spin_array, j, h, t):\n",
    "    sum=0\n",
    "    for k in range(len(spin_array[0])):\n",
    "        for l in range(len(spin_array[0])):\n",
    "            sum=sum+np.exp(-hamiltionian(spin_array, [k, l], j, h)/t)\n",
    "    return (sum)"
   ]
  },
  {
   "cell_type": "code",
   "execution_count": 6,
   "metadata": {},
   "outputs": [],
   "source": [
    "#z_simulated(configs, 0.5, 0.8, 0.5)"
   ]
  },
  {
   "cell_type": "markdown",
   "metadata": {},
   "source": [
    "And, the magnetization per spin is defined as:\n",
    "\n",
    "\\begin{equation}\n",
    "    <m>=+\\frac{T}{N}\\frac{\\partial log(Z)}{\\partial h} \n",
    "\\end{equation}"
   ]
  },
  {
   "cell_type": "code",
   "execution_count": 7,
   "metadata": {},
   "outputs": [],
   "source": [
    "def magnetization_random_configurations(spin_array, j, h, t, intervall):\n",
    "    z_1=z_simulated(spin_array, j, h+(intervall/2), t)\n",
    "    z_2=z_simulated(spin_array, j, h-(intervall/2), t)\n",
    "    return (t/(len(spin_array[0])**2)*((np.log(z_1)-np.log(z_2))/intervall))"
   ]
  },
  {
   "cell_type": "code",
   "execution_count": 8,
   "metadata": {},
   "outputs": [],
   "source": [
    "#magnetization = magnetization_random_configurations(configs, 0.03, 2, 0.5, 0.5)\n",
    "#print(magnetization)"
   ]
  },
  {
   "cell_type": "markdown",
   "metadata": {},
   "source": [
    "Here comes the part that is different to the last homework. Instead of brute forcing the solution we now have a plan. We will use the Metropolis-Hastings Method:\n",
    "\n",
    "* **1. We take a random spin from our matrix** \n",
    "\n",
    "<space>\n",
    "\n",
    "* **2. Then we flip the spin ($s_{i}=-1*s_{i}$)**\n",
    "\n",
    "<space>\n",
    "\n",
    "* **3.  The change in energy is calculated**\n",
    "    \n",
    "<space>   \n",
    "    \n",
    "* **4.  Actual Metropolis-Hastings step:**\n",
    "    \n",
    "    <space><space>\n",
    "        \n",
    "    * A if $\\Delta S < 0 $ ACCEPT the spin flip\n",
    "    \n",
    "    <space><space>\n",
    "        \n",
    "    * B else sample y ~ U(0,1)\n",
    "         \n",
    "         <space><space>\n",
    "         \n",
    "         * if y $\\leq exp(-\\Delta S)$ ACCEPT the spin flip\n",
    "           \n",
    "         <space><space>    \n",
    "             \n",
    "         * otherwise REJECT the spin flip and keep the original spin $s_{i}$\n",
    "             \n",
    "         <space><space>\n",
    "    \n",
    "<space>\n",
    "    \n",
    "* **5. Steps 1-4 are repeated for $\\Lambda$ times (which is called sweep)**\n",
    "\n",
    "First we will implement a sweep. One thing to mention is, that sampling over a uniform distribution as written above can slow down the algorihm. Importance sampling is much better for a problem like this."
   ]
  },
  {
   "cell_type": "code",
   "execution_count": 9,
   "metadata": {},
   "outputs": [],
   "source": [
    "def sweep(spin_array, j, h, t):\n",
    "    \n",
    "    #Choose a random position\n",
    "    x = rd.randint(0, len(spin_array[0])-1)\n",
    "    y = rd.randint(0, len(spin_array[0])-1)\n",
    "    \n",
    "    # If we reach borders, we return on the other side of the problem.\n",
    "    # Negative index (-1) ends up at the end of array\n",
    "    # End of array needs to be taken care of \n",
    "    # i = l = -1\n",
    "    if x == len(spin_array[0]) - 1:\n",
    "        x = -1\n",
    "    if y == len(spin_array[0]) - 1:\n",
    "        y = -1\n",
    "    #print(x, y)\n",
    "    \n",
    "    #Calculate Energy prior to flip\n",
    "    # Therefore we don't have to sum over the whole grid\n",
    "    # Those are the only contributions to change in energy\n",
    "    s_prior = (hamiltionian(spin_array, [x, y], j, h) + \\\n",
    "              hamiltionian(spin_array, [x+1, y], j, h) + \\\n",
    "              hamiltionian(spin_array, [x, y+1], j, h) + \\\n",
    "              hamiltionian(spin_array, [x-1, y], j, h) + \\\n",
    "              hamiltionian(spin_array, [x, y-1], j, h)) / t \n",
    "    \n",
    "    #Flip Spin\n",
    "    spin_array[x, y] = -spin_array[x, y]\n",
    "    \n",
    "    #Calculate Energy after flip\n",
    "    s_later = (hamiltionian(spin_array, [x, y], j, h) + \\\n",
    "              hamiltionian(spin_array, [x+1, y], j, h) + \\\n",
    "              hamiltionian(spin_array, [x, y+1], j, h) + \\\n",
    "              hamiltionian(spin_array, [x-1, y], j, h) + \\\n",
    "              hamiltionian(spin_array, [x, y-1], j, h))/t \n",
    "    \n",
    "    #Computing the Energy\n",
    "    delta_s = s_later - s_prior\n",
    "    \n",
    "    if delta_s <= 0:\n",
    "        return(spin_array)\n",
    "    else:\n",
    "        y = rd.randint(0, 1)\n",
    "        # allow small increasing energy\n",
    "        if y > math.exp(-delta_s):\n",
    "            # if energy too high, flip again the spin to keep\n",
    "            # original configuration\n",
    "            spin_array[x, y] = -spin_array[x, y]\n",
    "            \n",
    "        return(spin_array)\n"
   ]
  },
  {
   "cell_type": "markdown",
   "metadata": {},
   "source": [
    "Now these sweeps are executed a lot of times. The next steps are:\n",
    "\n",
    "+ **6. Measure the a relevant property (magnetization, internal energy, etc.)**\n",
    "\n",
    "<space>\n",
    "    \n",
    "* **7. Repeat from step 1 (Over time magnetization should converge towards the real value of the observable)**"
   ]
  },
  {
   "cell_type": "code",
   "execution_count": 10,
   "metadata": {},
   "outputs": [],
   "source": [
    "def mc_estimate(spin_array, j, h, t, lamba, repeats):\n",
    "    m=np.zeros(repeats)\n",
    "    \n",
    "    for k in range(repeats):\n",
    "        for i in range(int(lamba)):\n",
    "            spin_array = sweep(spin_array, j, h, t)\n",
    "        m[k] = magnetization_random_configurations(spin_array, j, h, t, 0.01)\n",
    "        #print(m[k])\n",
    "        #print(m)\n",
    "        \n",
    "    return np.average(m)"
   ]
  },
  {
   "cell_type": "code",
   "execution_count": 11,
   "metadata": {},
   "outputs": [],
   "source": [
    "#mc_estimate(configs, -0.8, 0.8, 1, len(configs[0])**2, 100) # Lambda is the amount of elements, so here NxN"
   ]
  },
  {
   "cell_type": "markdown",
   "metadata": {},
   "source": [
    "## Exercise 2\n",
    "\n",
    "**How does the numerical cost of the calculation of the energy (for a given spin configuration) scale with the system size $\\Lambda$ ?**\n",
    "\n",
    "<space>\n",
    "\n",
    "Since we sum over all spins, we use for each spin only one execution of our function *hamiltonian*, where the energy of the spin in the magnetic field *H* and the coupling energy of the spin to its neighbors is calculated. So the numerical cost is roughly $\\propto \\Lambda$, where $\\Lambda$ is the number of spins in our grid."
   ]
  },
  {
   "cell_type": "markdown",
   "metadata": {},
   "source": [
    "## Exercise 3\n",
    "\n",
    "**Assuming you’ve flipped one spin $s_{i}$, how does the numerical cost of the calculation of the change in energy $\\Delta S$ scale with the system size $\\Lambda$ ?**\n",
    "\n",
    "<space>\n",
    "\n",
    "We take only the Hamiltonians, which are changed due to the spin flip. We execute the function *hamiltonian* for the calculation of $\\Delta S$ only a set number of times, that is only the Hamiltonians for which we now changed energy. So the numerical cost for $\\Delta S$ is not dependent on $\\Lambda$, but rather constant."
   ]
  },
  {
   "cell_type": "markdown",
   "metadata": {},
   "source": [
    "## Exercise 4\n",
    "\n",
    "**What is the significance of the critical coupling $J_c$ ?**\n",
    "\n",
    "<space>\n",
    "\n",
    "The critical coupling is the value for the ratio of coupling strength to temperature, under which spontaneous symmetry breaking happens. In this case (parts of the) spins, although not influenced by an external field, start to align, such that the average magnetization is not zero anymore. This happens at suffenciently large J or low temperatures. A phase transition happens."
   ]
  },
  {
   "cell_type": "markdown",
   "metadata": {},
   "source": [
    "## Exercise 5\n",
    "\n",
    "Now we can look at how the magnetization changes when the relevant parameters change. We choose different N-values and just see how m is dependent on h.\n",
    "\n",
    "$h \\in [-1, 1]$"
   ]
  },
  {
   "cell_type": "code",
   "execution_count": 12,
   "metadata": {
    "tags": []
   },
   "outputs": [
    {
     "data": {
      "image/png": "[encoded data removed]",
      "text/plain": [
       "<Figure size 432x288 with 1 Axes>"
      ]
     },
     "metadata": {
      "needs_background": "light"
     },
     "output_type": "display_data"
    }
   ],
   "source": [
    "#def plot_m_h_dependency(j, t, lamba, repeats):\n",
    "def plot_m_h_dependency(j, t, repeats):\n",
    "    h_array=np.arange(-1, 1.01, 0.1)\n",
    "    m_array_4=np.zeros(len(h_array))\n",
    "    m_array_8=np.zeros(len(h_array))\n",
    "    m_array_12=np.zeros(len(h_array))\n",
    "    m_array_16=np.zeros(len(h_array))\n",
    "    m_array_20=np.zeros(len(h_array))\n",
    "    for i in range(len(h_array)):\n",
    "        m_array_4[i]=mc_estimate(gen_spin_array(4), j, h_array[i], t, 4**2, repeats)\n",
    "        m_array_8[i]=mc_estimate(gen_spin_array(8), j, h_array[i], t, 8**2, repeats)\n",
    "        m_array_12[i]=mc_estimate(gen_spin_array(12), j, h_array[i], t, 12**2, repeats)\n",
    "        m_array_16[i]=mc_estimate(gen_spin_array(16), j, h_array[i], t, 16**2, repeats)\n",
    "        m_array_20[i]=mc_estimate(gen_spin_array(20), j, h_array[i], t, 20**2, repeats)\n",
    "    plt.plot(h_array, m_array_4, label=\"N=4\")\n",
    "    plt.plot(h_array, m_array_8, label=\"N=8\")\n",
    "    plt.plot(h_array, m_array_12, label=\"N=12\")\n",
    "    plt.plot(h_array, m_array_16, label=\"N=16\")\n",
    "    plt.plot(h_array, m_array_20, label=\"N=20\")\n",
    "    plt.legend(loc=\"best\")\n",
    "    plt.xlabel(\"h\")\n",
    "    plt.ylabel(\"m\")\n",
    "    plt.grid('True')\n",
    "    plt.savefig(\"h_m_dependency.png\")\n",
    "\n",
    "plot_m_h_dependency(1, 1, 100)    \n",
    "#plot_m_h_dependency(1, 1, 49, 100)"
   ]
  },
  {
   "cell_type": "markdown",
   "metadata": {},
   "source": [
    "## Exercise 6\n",
    "\n",
    "It is also interesting to take a look, at the average energy per site. An analytical solution for that is given by:\n",
    "\\begin{equation}\n",
    "    \\epsilon=−J \\coth (2J) (1 + \\frac{2}{\\pi} (2 \\tanh^2(2J)−1)K(4sech^2(2J) tanh^2(2J)))\n",
    "\\end{equation}\n",
    "\n",
    "With K beeing the incomplete elliptic integral of the first kind. This can be calculated by using the formula\n",
    "\n",
    "\\begin{equation}\n",
    "    F(x ; k) = \\int_{0}^{x} \\frac{\\mathrm{d}t}{\\sqrt{\\left(1 - t^2\\right)\\left(1 - k^2 t^2\\right)}}\n",
    "\\end{equation}\n",
    "\n",
    "This formula could be implemented by hand, however in the package scipy we have the function scipy.special.ellipkinc, which calculates the incomplete elliptic integral of the first kind. We only look at a certain j intervall: $j \\in [0.25, 1]$."
   ]
  },
  {
   "cell_type": "code",
   "execution_count": 13,
   "metadata": {},
   "outputs": [
    {
     "data": {
      "image/png": "[encoded data removed]",
      "text/plain": [
       "<Figure size 432x288 with 1 Axes>"
      ]
     },
     "metadata": {
      "needs_background": "light"
     },
     "output_type": "display_data"
    }
   ],
   "source": [
    "def mean_energy_analytical(j):\n",
    "    spherical=sp.ellipkinc(math.pi/2, 4*math.cosh(2*j)**-2*math.tanh(2*j)**2)\n",
    "    return (-j*(math.cosh(2*j)/math.sinh(2*j))*(1+2*math.pi*(2*math.tanh(2*j)**2-1)*spherical))\n",
    "\n",
    "def plot_mean_energy(N, h, t, lamba, repeats):\n",
    "    j_array=np.arange(0.25, 1.01, 0.01)\n",
    "    mean_energy_array=np.zeros(len(j_array))\n",
    "    for i in range(len(j_array)):\n",
    "        mean_energy_array[i]=mean_energy_analytical(j_array[i])\n",
    "    plt.plot(j_array, mean_energy_array)\n",
    "    plt.xlabel(\"j\")\n",
    "    plt.ylabel(\"e\")\n",
    "    plt.savefig(\"plot_mean_energy.png\")\n",
    "\n",
    "plot_mean_energy(4, 1, 1, 1, 1)"
   ]
  },
  {
   "cell_type": "markdown",
   "metadata": {},
   "source": [
    "## Exercise 7\n",
    "\n",
    "We can also calculate an analytical solution for absolute value of the mean magnetization. This is given by:\n",
    "\n",
    "\\begin{equation}\n",
    "        |m| = \\left\\{\n",
    "\t\t\\begin{array}{ll}\n",
    "\t\t\\left(\\frac{1}{\\sinh^4(2J)}\\right)^{\\frac{1}{8}}, &\\text{ if }J_c < J \\\\\n",
    "\t\t0 & else \n",
    "\t\t\\end{array}\n",
    "\t\t\\right.\n",
    "\\end{equation}\n",
    "\n",
    "We can compare this to our simulated result. For the comparison we only look a certain J interval. \n",
    "\n",
    "$j \\in [0.25, 1]$"
   ]
  },
  {
   "cell_type": "code",
   "execution_count": 14,
   "metadata": {},
   "outputs": [
    {
     "data": {
      "image/png": "[encoded data removed]",
      "text/plain": [
       "<Figure size 432x288 with 1 Axes>"
      ]
     },
     "metadata": {
      "needs_background": "light"
     },
     "output_type": "display_data"
    }
   ],
   "source": [
    "def mean_magnetization_analytical(j):\n",
    "    if j>0.440686793509772:\n",
    "        return ((1-(1/(math.sinh(2*j)**4)))**(1/8))\n",
    "    else:\n",
    "        return 0\n",
    "\n",
    "def plot_mean_magnetization(N, h, t, lamba, repeats):\n",
    "    j_array=np.arange(0.25, 1.01, 0.01)\n",
    "    mean_magnetization_array=np.zeros(len(j_array))\n",
    "    for i in range(len(j_array)):\n",
    "        mean_magnetization_array[i]=mean_magnetization_analytical(j_array[i])\n",
    "    plt.plot(j_array, mean_magnetization_array)\n",
    "    plt.xlabel(\"j\")\n",
    "    plt.ylabel(\"|m|\")\n",
    "    plt.savefig(\"plot_mean_energy.png\")\n",
    "\n",
    "plot_mean_magnetization(4, 1, 1, 1, 1)"
   ]
  },
  {
   "cell_type": "code",
   "execution_count": null,
   "metadata": {},
   "outputs": [],
   "source": []
  }
 ],
 "metadata": {
  "kernelspec": {
   "display_name": "Python 3",
   "language": "python",
   "name": "python3"
  },
  "language_info": {
   "codemirror_mode": {
    "name": "ipython",
    "version": 3
   },
   "file_extension": ".py",
   "mimetype": "text/x-python",
   "name": "python",
   "nbconvert_exporter": "python",
   "pygments_lexer": "ipython3",
   "version": "3.8.3"
  }
 },
 "nbformat": 4,
 "nbformat_minor": 2
}
